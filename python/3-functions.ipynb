{
 "cells": [
  {
   "cell_type": "markdown",
   "metadata": {},
   "source": [
    "# Programming with Python\n",
    "\n",
    "## Session 3"
   ]
  },
  {
   "cell_type": "markdown",
   "metadata": {
    "collapsed": true
   },
   "source": [
    "## Functions\n",
    "\n",
    "Functions are reusable blocks of code that you can name and execute any number of times from different parts of your script(s). This reuse is known as \"calling\" the function. Functions are important building blocks of a software.\n",
    "\n",
    "There are several built-in functions of Python, which can be called anywhere (and any number of times) in your current program. You have been using built-in functions already, for example, `len()`, `range()`, `sorted()`, `max()`, `min()`, `sum()` etc."
   ]
  },
  {
   "cell_type": "markdown",
   "metadata": {},
   "source": [
    "#### Structure of writing a function:\n",
    "\n",
    "- `def` (keyword) + function name (you choose) + `()`.\n",
    "- newline with 4 spaces or a tab +  block of code # Note: Codes at the 0 position are always read\n",
    "- Call your function using its name"
   ]
  },
  {
   "cell_type": "code",
   "execution_count": null,
   "metadata": {},
   "outputs": [],
   "source": [
    "# Examples of the functions that you already know, i.e. print(), len(), max(), min()\n",
    "\n",
    "myvar = [12,23,67,45,58,19]"
   ]
  },
  {
   "cell_type": "code",
   "execution_count": null,
   "metadata": {},
   "outputs": [],
   "source": [
    "# Non parametric function\n",
    "# Define a function that prints a sum of number1 and number2 defined inside the function\n"
   ]
  },
  {
   "cell_type": "code",
   "execution_count": null,
   "metadata": {},
   "outputs": [],
   "source": [
    "# Parametric function\n",
    "# Example: a function to convert temperatures in Fahrenheit to Celcius\n",
    "# tC = (tF - 32) * (5/9)\n"
   ]
  },
  {
   "cell_type": "code",
   "execution_count": null,
   "metadata": {},
   "outputs": [],
   "source": [
    "# Returning values\n",
    "# change function above so that user can save the result, rather than printing it to screen\n"
   ]
  },
  {
   "cell_type": "code",
   "execution_count": null,
   "metadata": {},
   "outputs": [],
   "source": [
    "# Local Vs. global variable\n",
    "\n",
    "# variables defined inside a function are *not* visible to the \"higher\" levels of the program\n",
    "# however, variables defined outside the function can be accessed inside the function\n",
    "# be careful with this!\n",
    "\n",
    "pi = 3.1415\n",
    "\n",
    "def calculate_circumference(radius):\n",
    "    circ = radius * 2 * pi\n",
    "    return circ"
   ]
  },
  {
   "cell_type": "markdown",
   "metadata": {},
   "source": [
    "## Exercise 1 - Composing functions\n",
    "\n",
    "Write a function, similar to the one above, to convert a temperature in Celcius to the equivalent value in Kelvin. The equation is `tK = tC + 273.15`"
   ]
  },
  {
   "cell_type": "code",
   "execution_count": null,
   "metadata": {},
   "outputs": [],
   "source": []
  },
  {
   "cell_type": "markdown",
   "metadata": {},
   "source": [
    "## Exercise 2 - Combining functions\n",
    "\n",
    "Using the two temperature converting functions that we've already defined, write a new function that will convert a temperature in Fahrenheit to the equivalent temperature in __Kelvin__. Hint: remember that the point of encapsulating our code in functions is to avoid repeating ourselves."
   ]
  },
  {
   "cell_type": "code",
   "execution_count": null,
   "metadata": {},
   "outputs": [],
   "source": []
  },
  {
   "cell_type": "markdown",
   "metadata": {},
   "source": [
    "## Exercise 3 - Combining strings\n",
    "\n",
    "“Adding” two strings produces their concatenation: `'a' + 'b'` is `'ab'`. Write a function called `fence` that takes two parameters called `original` and `wrapper` and returns a new string that has the wrapper character at the beginning and end of the original. A call to your function should look like this:\n",
    "\n",
    "```Python\n",
    "print(fence('name', '*'))\n",
    "```\n",
    "```\n",
    "*name*\n",
    "```"
   ]
  },
  {
   "cell_type": "markdown",
   "metadata": {},
   "source": [
    "## Documenting Functions"
   ]
  },
  {
   "cell_type": "code",
   "execution_count": null,
   "metadata": {},
   "outputs": [],
   "source": [
    "# remember that you can use help() get help on how to use a function\n",
    "help(range)"
   ]
  },
  {
   "cell_type": "code",
   "execution_count": null,
   "metadata": {},
   "outputs": [],
   "source": [
    "# what happens if we call help() on one of the functions that we've defined ourselves?\n",
    "help(calculate_circumference)\n",
    "\n",
    "# how can we improve this? *why* should we?"
   ]
  }
 ],
 "metadata": {
  "kernelspec": {
   "display_name": "Python 3",
   "language": "python",
   "name": "python3"
  },
  "language_info": {
   "codemirror_mode": {
    "name": "ipython",
    "version": 3
   },
   "file_extension": ".py",
   "mimetype": "text/x-python",
   "name": "python",
   "nbconvert_exporter": "python",
   "pygments_lexer": "ipython3",
   "version": "3.6.6"
  }
 },
 "nbformat": 4,
 "nbformat_minor": 1
}
